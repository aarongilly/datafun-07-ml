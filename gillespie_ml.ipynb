{
 "cells": [
  {
   "cell_type": "markdown",
   "metadata": {},
   "source": [
    "# NW Missouri State University 44608 Module 7 - Machine Learning\n",
    "\n",
    "- Author: Aaron Gillespie\n",
    "- Date: 2025-02-26\n",
    "- Repo: [On GitHub](https://github.com/aarongilly/datafun-07-ml)\n",
    "- Purpose:\n",
    "Completing the 7th and final module of 44608, **Data Analytics Fundamentals**, with this introduction to machine learning with Python and Jupyter Notebooks (specifically *this notebook you're reading now*)."
   ]
  },
  {
   "cell_type": "markdown",
   "metadata": {},
   "source": []
  }
 ],
 "metadata": {
  "language_info": {
   "name": "python"
  }
 },
 "nbformat": 4,
 "nbformat_minor": 2
}
